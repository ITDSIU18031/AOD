{
  "nbformat": 4,
  "nbformat_minor": 0,
  "metadata": {
    "kernelspec": {
      "display_name": "Python 3",
      "language": "python",
      "name": "python3"
    },
    "language_info": {
      "codemirror_mode": {
        "name": "ipython",
        "version": 3
      },
      "file_extension": ".py",
      "mimetype": "text/x-python",
      "name": "python",
      "nbconvert_exporter": "python",
      "pygments_lexer": "ipython3",
      "version": "3.5.2"
    },
    "colab": {
      "name": "lab1-pandas-Data structures.ipynb",
      "provenance": [],
      "collapsed_sections": [],
      "toc_visible": true
    }
  },
  "cells": [
    {
      "cell_type": "markdown",
      "metadata": {
        "id": "bS_BWu5CVa0p"
      },
      "source": [
        "**Cao Ngọc Bảo Long // StdID: ITDSIU18031**"
      ]
    },
    {
      "cell_type": "code",
      "metadata": {
        "id": "6VGZYxPERdDi"
      },
      "source": [
        "import pandas as pd"
      ],
      "execution_count": 8,
      "outputs": []
    },
    {
      "cell_type": "code",
      "metadata": {
        "id": "OOCYkWYvRdDn"
      },
      "source": [
        "%matplotlib inline\n",
        "import numpy as np\n",
        "import matplotlib.pyplot as plt\n",
        "try:\n",
        "    import seaborn\n",
        "except ImportError:\n",
        "    pass"
      ],
      "execution_count": 9,
      "outputs": []
    },
    {
      "cell_type": "markdown",
      "metadata": {
        "id": "2JTHqfWlRdDq"
      },
      "source": [
        "# Tabular data"
      ]
    },
    {
      "cell_type": "code",
      "metadata": {
        "id": "vXUZO2wzRdDq"
      },
      "source": [
        "# Here is just the sample dir, you should correct your dir\n",
        "df = pd.read_csv(\"data/titanic.csv\")"
      ],
      "execution_count": 13,
      "outputs": []
    },
    {
      "cell_type": "markdown",
      "metadata": {
        "id": "H9VG2_NwmkaS"
      },
      "source": [
        "## Practice 1"
      ]
    },
    {
      "cell_type": "markdown",
      "metadata": {
        "id": "FXkMASrAle6o"
      },
      "source": [
        "**Print out top rows in the data**"
      ]
    },
    {
      "cell_type": "code",
      "metadata": {
        "id": "WXw4HumTl7Y0",
        "colab": {
          "base_uri": "https://localhost:8080/",
          "height": 229
        },
        "outputId": "81cd33f6-93d6-426f-e730-a225e9c6b8ea"
      },
      "source": [
        "df.head()"
      ],
      "execution_count": 14,
      "outputs": [
        {
          "output_type": "execute_result",
          "data": {
            "text/html": [
              "<div>\n",
              "<style scoped>\n",
              "    .dataframe tbody tr th:only-of-type {\n",
              "        vertical-align: middle;\n",
              "    }\n",
              "\n",
              "    .dataframe tbody tr th {\n",
              "        vertical-align: top;\n",
              "    }\n",
              "\n",
              "    .dataframe thead th {\n",
              "        text-align: right;\n",
              "    }\n",
              "</style>\n",
              "<table border=\"1\" class=\"dataframe\">\n",
              "  <thead>\n",
              "    <tr style=\"text-align: right;\">\n",
              "      <th></th>\n",
              "      <th>PassengerId</th>\n",
              "      <th>Survived</th>\n",
              "      <th>Pclass</th>\n",
              "      <th>Name</th>\n",
              "      <th>Sex</th>\n",
              "      <th>Age</th>\n",
              "      <th>SibSp</th>\n",
              "      <th>Parch</th>\n",
              "      <th>Ticket</th>\n",
              "      <th>Fare</th>\n",
              "      <th>Cabin</th>\n",
              "      <th>Embarked</th>\n",
              "    </tr>\n",
              "  </thead>\n",
              "  <tbody>\n",
              "    <tr>\n",
              "      <th>0</th>\n",
              "      <td>1</td>\n",
              "      <td>0</td>\n",
              "      <td>3</td>\n",
              "      <td>Braund, Mr. Owen Harris</td>\n",
              "      <td>male</td>\n",
              "      <td>22.0</td>\n",
              "      <td>1</td>\n",
              "      <td>0</td>\n",
              "      <td>A/5 21171</td>\n",
              "      <td>7.2500</td>\n",
              "      <td>NaN</td>\n",
              "      <td>S</td>\n",
              "    </tr>\n",
              "    <tr>\n",
              "      <th>1</th>\n",
              "      <td>2</td>\n",
              "      <td>1</td>\n",
              "      <td>1</td>\n",
              "      <td>Cumings, Mrs. John Bradley (Florence Briggs Th...</td>\n",
              "      <td>female</td>\n",
              "      <td>38.0</td>\n",
              "      <td>1</td>\n",
              "      <td>0</td>\n",
              "      <td>PC 17599</td>\n",
              "      <td>71.2833</td>\n",
              "      <td>C85</td>\n",
              "      <td>C</td>\n",
              "    </tr>\n",
              "    <tr>\n",
              "      <th>2</th>\n",
              "      <td>3</td>\n",
              "      <td>1</td>\n",
              "      <td>3</td>\n",
              "      <td>Heikkinen, Miss. Laina</td>\n",
              "      <td>female</td>\n",
              "      <td>26.0</td>\n",
              "      <td>0</td>\n",
              "      <td>0</td>\n",
              "      <td>STON/O2. 3101282</td>\n",
              "      <td>7.9250</td>\n",
              "      <td>NaN</td>\n",
              "      <td>S</td>\n",
              "    </tr>\n",
              "    <tr>\n",
              "      <th>3</th>\n",
              "      <td>4</td>\n",
              "      <td>1</td>\n",
              "      <td>1</td>\n",
              "      <td>Futrelle, Mrs. Jacques Heath (Lily May Peel)</td>\n",
              "      <td>female</td>\n",
              "      <td>35.0</td>\n",
              "      <td>1</td>\n",
              "      <td>0</td>\n",
              "      <td>113803</td>\n",
              "      <td>53.1000</td>\n",
              "      <td>C123</td>\n",
              "      <td>S</td>\n",
              "    </tr>\n",
              "    <tr>\n",
              "      <th>4</th>\n",
              "      <td>5</td>\n",
              "      <td>0</td>\n",
              "      <td>3</td>\n",
              "      <td>Allen, Mr. William Henry</td>\n",
              "      <td>male</td>\n",
              "      <td>35.0</td>\n",
              "      <td>0</td>\n",
              "      <td>0</td>\n",
              "      <td>373450</td>\n",
              "      <td>8.0500</td>\n",
              "      <td>NaN</td>\n",
              "      <td>S</td>\n",
              "    </tr>\n",
              "  </tbody>\n",
              "</table>\n",
              "</div>"
            ],
            "text/plain": [
              "   PassengerId  Survived  Pclass  ...     Fare Cabin  Embarked\n",
              "0            1         0       3  ...   7.2500   NaN         S\n",
              "1            2         1       1  ...  71.2833   C85         C\n",
              "2            3         1       3  ...   7.9250   NaN         S\n",
              "3            4         1       1  ...  53.1000  C123         S\n",
              "4            5         0       3  ...   8.0500   NaN         S\n",
              "\n",
              "[5 rows x 12 columns]"
            ]
          },
          "metadata": {
            "tags": []
          },
          "execution_count": 14
        }
      ]
    },
    {
      "cell_type": "markdown",
      "metadata": {
        "id": "cR1hiKqwRdDx"
      },
      "source": [
        "Starting from reading this dataset, to answering questions about this data in a few lines of code:"
      ]
    },
    {
      "cell_type": "markdown",
      "metadata": {
        "id": "Z0Dt1xZbRdDy"
      },
      "source": [
        "**What is the age distribution of the passengers?**"
      ]
    },
    {
      "cell_type": "code",
      "metadata": {
        "id": "hSkNMcDHRdDy",
        "colab": {
          "base_uri": "https://localhost:8080/",
          "height": 314
        },
        "outputId": "e177d9e2-cb4c-44ec-dcc7-eb4a2d13693a"
      },
      "source": [
        "df.hist('Age')"
      ],
      "execution_count": 15,
      "outputs": [
        {
          "output_type": "execute_result",
          "data": {
            "text/plain": [
              "array([[<matplotlib.axes._subplots.AxesSubplot object at 0x7fed89852150>]],\n",
              "      dtype=object)"
            ]
          },
          "metadata": {
            "tags": []
          },
          "execution_count": 15
        },
        {
          "output_type": "display_data",
          "data": {
            "image/png": "[encoded data removed]",
            "text/plain": [
              "<Figure size 432x288 with 1 Axes>"
            ]
          },
          "metadata": {
            "tags": [],
            "needs_background": "light"
          }
        }
      ]
    },
    {
      "cell_type": "markdown",
      "metadata": {
        "id": "7Lm_V4LtRdD1"
      },
      "source": [
        "**How does the survival rate of the passengers differ between sexes?**"
      ]
    },
    {
      "cell_type": "code",
      "metadata": {
        "id": "ZQusrPSURdD2",
        "colab": {
          "base_uri": "https://localhost:8080/"
        },
        "outputId": "3718b91b-317f-4de2-f3a9-b63238de93fe"
      },
      "source": [
        "df.groupby('Sex')['Survived'].aggregate(lambda x:x.sum()/len(x))"
      ],
      "execution_count": 17,
      "outputs": [
        {
          "output_type": "execute_result",
          "data": {
            "text/plain": [
              "Sex\n",
              "female    0.742038\n",
              "male      0.188908\n",
              "Name: Survived, dtype: float64"
            ]
          },
          "metadata": {
            "tags": []
          },
          "execution_count": 17
        }
      ]
    },
    {
      "cell_type": "markdown",
      "metadata": {
        "id": "gpQwb2qpRdD5"
      },
      "source": [
        "**Or how does it differ between the different classes?**"
      ]
    },
    {
      "cell_type": "code",
      "metadata": {
        "id": "Avhkq0MhRdD6",
        "colab": {
          "base_uri": "https://localhost:8080/"
        },
        "outputId": "683837a9-ada4-4f8b-d187-6a0941104be9"
      },
      "source": [
        "df.groupby('Pclass')['Survived'].aggregate(lambda x:x.sum()/len(x))"
      ],
      "execution_count": 18,
      "outputs": [
        {
          "output_type": "execute_result",
          "data": {
            "text/plain": [
              "Pclass\n",
              "1    0.629630\n",
              "2    0.472826\n",
              "3    0.242363\n",
              "Name: Survived, dtype: float64"
            ]
          },
          "metadata": {
            "tags": []
          },
          "execution_count": 18
        }
      ]
    },
    {
      "cell_type": "markdown",
      "metadata": {
        "id": "K8LU4FWsRdD8"
      },
      "source": [
        "**Are young people more likely to survive?**"
      ]
    },
    {
      "cell_type": "code",
      "metadata": {
        "id": "crWMgrakRdD9",
        "colab": {
          "base_uri": "https://localhost:8080/"
        },
        "outputId": "3a1ce127-86bb-4723-a9de-94418742dbcf"
      },
      "source": [
        "df['Survived'].sum() / df['Survived'].count()"
      ],
      "execution_count": 19,
      "outputs": [
        {
          "output_type": "execute_result",
          "data": {
            "text/plain": [
              "0.3838383838383838"
            ]
          },
          "metadata": {
            "tags": []
          },
          "execution_count": 19
        }
      ]
    },
    {
      "cell_type": "code",
      "metadata": {
        "id": "UOPtQf0qRdEA",
        "colab": {
          "base_uri": "https://localhost:8080/"
        },
        "outputId": "9ab72ed0-4972-48f4-b7d7-f8d40844084c"
      },
      "source": [
        "df25=df[df['Age']<25]\r\n",
        "df25['Survived'].sum() / df25['Survived'].count()"
      ],
      "execution_count": 20,
      "outputs": [
        {
          "output_type": "execute_result",
          "data": {
            "text/plain": [
              "0.4244604316546763"
            ]
          },
          "metadata": {
            "tags": []
          },
          "execution_count": 20
        }
      ]
    },
    {
      "cell_type": "markdown",
      "metadata": {
        "id": "B_8KxegNRdED"
      },
      "source": [
        "All the needed functionality for the above examples will be explained throughout this tutorial."
      ]
    },
    {
      "cell_type": "markdown",
      "metadata": {
        "id": "c15U4UkKRdEG"
      },
      "source": [
        "# Data structures\n",
        "\n",
        "Pandas provides two fundamental data objects, for 1D (``Series``) and 2D data (``DataFrame``)."
      ]
    },
    {
      "cell_type": "markdown",
      "metadata": {
        "id": "UOyCsWe6RdEH"
      },
      "source": [
        "## Series\n",
        "\n",
        "A Series is a basic holder for **one-dimensional labeled data**. It can be created much as a NumPy array is created:"
      ]
    },
    {
      "cell_type": "code",
      "metadata": {
        "id": "EcNUUumiRdEH",
        "colab": {
          "base_uri": "https://localhost:8080/"
        },
        "outputId": "082eca60-d3e5-49d9-c989-5d67b44b772e"
      },
      "source": [
        "s = pd.Series([0.1, 0.2, 0.3, 0.4])\n",
        "s"
      ],
      "execution_count": 21,
      "outputs": [
        {
          "output_type": "execute_result",
          "data": {
            "text/plain": [
              "0    0.1\n",
              "1    0.2\n",
              "2    0.3\n",
              "3    0.4\n",
              "dtype: float64"
            ]
          },
          "metadata": {
            "tags": []
          },
          "execution_count": 21
        }
      ]
    },
    {
      "cell_type": "markdown",
      "metadata": {
        "id": "PFSSgnjFRdEK"
      },
      "source": [
        "### Attributes of a Series: `index` and `values`\n",
        "\n",
        "The series has a built-in concept of an **index**, which by default is the numbers *0* through *N - 1*"
      ]
    },
    {
      "cell_type": "code",
      "metadata": {
        "id": "QLYoZ1xgRdEL",
        "colab": {
          "base_uri": "https://localhost:8080/"
        },
        "outputId": "e14d370e-6277-4ef8-9fc5-c6c5e80a2a25"
      },
      "source": [
        "s.index"
      ],
      "execution_count": 22,
      "outputs": [
        {
          "output_type": "execute_result",
          "data": {
            "text/plain": [
              "RangeIndex(start=0, stop=4, step=1)"
            ]
          },
          "metadata": {
            "tags": []
          },
          "execution_count": 22
        }
      ]
    },
    {
      "cell_type": "markdown",
      "metadata": {
        "id": "o2bs2ZpxRdEN"
      },
      "source": [
        "You can access the underlying numpy array representation with the `.values` attribute:"
      ]
    },
    {
      "cell_type": "code",
      "metadata": {
        "id": "bC3_75hkRdEN",
        "colab": {
          "base_uri": "https://localhost:8080/"
        },
        "outputId": "7fab70c9-f15e-40a8-d76f-966a56e608b1"
      },
      "source": [
        "s.values"
      ],
      "execution_count": 23,
      "outputs": [
        {
          "output_type": "execute_result",
          "data": {
            "text/plain": [
              "array([0.1, 0.2, 0.3, 0.4])"
            ]
          },
          "metadata": {
            "tags": []
          },
          "execution_count": 23
        }
      ]
    },
    {
      "cell_type": "markdown",
      "metadata": {
        "id": "zdENsTIbRdER"
      },
      "source": [
        "We can access series values via the index, just like for NumPy arrays:"
      ]
    },
    {
      "cell_type": "code",
      "metadata": {
        "id": "Iw54e_tRRdES",
        "colab": {
          "base_uri": "https://localhost:8080/"
        },
        "outputId": "c68138cc-c893-4462-fe71-9aac9c027dba"
      },
      "source": [
        "s[0]"
      ],
      "execution_count": 24,
      "outputs": [
        {
          "output_type": "execute_result",
          "data": {
            "text/plain": [
              "0.1"
            ]
          },
          "metadata": {
            "tags": []
          },
          "execution_count": 24
        }
      ]
    },
    {
      "cell_type": "markdown",
      "metadata": {
        "id": "u6_FfHIRRdEU"
      },
      "source": [
        "Unlike the NumPy array, though, this index can be something other than integers:"
      ]
    },
    {
      "cell_type": "code",
      "metadata": {
        "id": "iVJ2UN8zRdEV",
        "colab": {
          "base_uri": "https://localhost:8080/"
        },
        "outputId": "c5e54c33-12c3-4c96-cb1e-93602efa0135"
      },
      "source": [
        "s2 = pd.Series(np.arange(4), index=['a', 'b', 'c', 'd'])\n",
        "s2"
      ],
      "execution_count": 25,
      "outputs": [
        {
          "output_type": "execute_result",
          "data": {
            "text/plain": [
              "a    0\n",
              "b    1\n",
              "c    2\n",
              "d    3\n",
              "dtype: int64"
            ]
          },
          "metadata": {
            "tags": []
          },
          "execution_count": 25
        }
      ]
    },
    {
      "cell_type": "code",
      "metadata": {
        "id": "S9raEwFDRdEY",
        "outputId": "e3095382-eb12-45eb-c742-d9010f8761d7"
      },
      "source": [
        "s2['c']"
      ],
      "execution_count": null,
      "outputs": [
        {
          "output_type": "execute_result",
          "data": {
            "text/plain": [
              "2"
            ]
          },
          "metadata": {
            "tags": []
          },
          "execution_count": 15
        }
      ]
    },
    {
      "cell_type": "markdown",
      "metadata": {
        "id": "Q1NTNTugRdEb"
      },
      "source": [
        "In this way, a ``Series`` object can be thought of as similar to an ordered dictionary mapping one typed value to another typed value.\n",
        "\n",
        "In fact, it's possible to construct a series directly from a Python dictionary:"
      ]
    },
    {
      "cell_type": "code",
      "metadata": {
        "id": "n1cbosQgRdEc",
        "colab": {
          "base_uri": "https://localhost:8080/"
        },
        "outputId": "d3f14eec-d3b2-41bd-fb38-d354b4e8de9c"
      },
      "source": [
        "pop_dict = {'Germany': 81.3, \n",
        "            'Belgium': 11.3, \n",
        "            'France': 64.3, \n",
        "            'United Kingdom': 64.9, \n",
        "            'Netherlands': 16.9}\n",
        "population = pd.Series(pop_dict)\n",
        "population"
      ],
      "execution_count": 26,
      "outputs": [
        {
          "output_type": "execute_result",
          "data": {
            "text/plain": [
              "Germany           81.3\n",
              "Belgium           11.3\n",
              "France            64.3\n",
              "United Kingdom    64.9\n",
              "Netherlands       16.9\n",
              "dtype: float64"
            ]
          },
          "metadata": {
            "tags": []
          },
          "execution_count": 26
        }
      ]
    },
    {
      "cell_type": "markdown",
      "metadata": {
        "id": "oNCLHxX2RdEe"
      },
      "source": [
        "We can index the populations like a dict as expected:"
      ]
    },
    {
      "cell_type": "code",
      "metadata": {
        "id": "WUuxbuhGRdEf",
        "colab": {
          "base_uri": "https://localhost:8080/"
        },
        "outputId": "87c96668-88ae-45f3-e554-c64b4bf840b5"
      },
      "source": [
        "population['France']"
      ],
      "execution_count": 27,
      "outputs": [
        {
          "output_type": "execute_result",
          "data": {
            "text/plain": [
              "64.3"
            ]
          },
          "metadata": {
            "tags": []
          },
          "execution_count": 27
        }
      ]
    },
    {
      "cell_type": "markdown",
      "metadata": {
        "id": "0ELcisRNRdEi"
      },
      "source": [
        "but with the power of numpy arrays:"
      ]
    },
    {
      "cell_type": "code",
      "metadata": {
        "id": "uB3ab8MmRdEj",
        "colab": {
          "base_uri": "https://localhost:8080/"
        },
        "outputId": "b6a55574-01dd-48ed-bbfe-2f52327fc4f0"
      },
      "source": [
        "population * 1000"
      ],
      "execution_count": 28,
      "outputs": [
        {
          "output_type": "execute_result",
          "data": {
            "text/plain": [
              "Germany           81300.0\n",
              "Belgium           11300.0\n",
              "France            64300.0\n",
              "United Kingdom    64900.0\n",
              "Netherlands       16900.0\n",
              "dtype: float64"
            ]
          },
          "metadata": {
            "tags": []
          },
          "execution_count": 28
        }
      ]
    },
    {
      "cell_type": "markdown",
      "metadata": {
        "id": "Uc-Hn8C6RdEm"
      },
      "source": [
        "## DataFrames: Multi-dimensional Data\n",
        "\n",
        "A DataFrame is a **tablular data structure** (multi-dimensional object to hold labeled data) comprised of rows and columns, akin to a spreadsheet, database table, or R's data.frame object. You can think of it as multiple Series object which share the same index.\n"
      ]
    },
    {
      "cell_type": "markdown",
      "metadata": {
        "id": "r_QvzxjuRdEm"
      },
      "source": [
        "One of the most common ways of creating a dataframe is from a dictionary of arrays or lists.\n",
        "\n",
        "Note that in the IPython notebook, the dataframe will display in a rich HTML view:"
      ]
    },
    {
      "cell_type": "code",
      "metadata": {
        "id": "xJw6esGnRdEn",
        "colab": {
          "base_uri": "https://localhost:8080/",
          "height": 195
        },
        "outputId": "555bbbca-036e-4c58-f8fe-41ae9f9de6ff"
      },
      "source": [
        "data = {'country': ['Belgium', 'France', 'Germany', 'Netherlands', 'United Kingdom'],\n",
        "        'population': [11.3, 64.3, 81.3, 16.9, 64.9],\n",
        "        'area': [30510, 671308, 357050, 41526, 244820],\n",
        "        'capital': ['Brussels', 'Paris', 'Berlin', 'Amsterdam', 'London']}\n",
        "countries = pd.DataFrame(data)\n",
        "countries"
      ],
      "execution_count": 29,
      "outputs": [
        {
          "output_type": "execute_result",
          "data": {
            "text/html": [
              "<div>\n",
              "<style scoped>\n",
              "    .dataframe tbody tr th:only-of-type {\n",
              "        vertical-align: middle;\n",
              "    }\n",
              "\n",
              "    .dataframe tbody tr th {\n",
              "        vertical-align: top;\n",
              "    }\n",
              "\n",
              "    .dataframe thead th {\n",
              "        text-align: right;\n",
              "    }\n",
              "</style>\n",
              "<table border=\"1\" class=\"dataframe\">\n",
              "  <thead>\n",
              "    <tr style=\"text-align: right;\">\n",
              "      <th></th>\n",
              "      <th>country</th>\n",
              "      <th>population</th>\n",
              "      <th>area</th>\n",
              "      <th>capital</th>\n",
              "    </tr>\n",
              "  </thead>\n",
              "  <tbody>\n",
              "    <tr>\n",
              "      <th>0</th>\n",
              "      <td>Belgium</td>\n",
              "      <td>11.3</td>\n",
              "      <td>30510</td>\n",
              "      <td>Brussels</td>\n",
              "    </tr>\n",
              "    <tr>\n",
              "      <th>1</th>\n",
              "      <td>France</td>\n",
              "      <td>64.3</td>\n",
              "      <td>671308</td>\n",
              "      <td>Paris</td>\n",
              "    </tr>\n",
              "    <tr>\n",
              "      <th>2</th>\n",
              "      <td>Germany</td>\n",
              "      <td>81.3</td>\n",
              "      <td>357050</td>\n",
              "      <td>Berlin</td>\n",
              "    </tr>\n",
              "    <tr>\n",
              "      <th>3</th>\n",
              "      <td>Netherlands</td>\n",
              "      <td>16.9</td>\n",
              "      <td>41526</td>\n",
              "      <td>Amsterdam</td>\n",
              "    </tr>\n",
              "    <tr>\n",
              "      <th>4</th>\n",
              "      <td>United Kingdom</td>\n",
              "      <td>64.9</td>\n",
              "      <td>244820</td>\n",
              "      <td>London</td>\n",
              "    </tr>\n",
              "  </tbody>\n",
              "</table>\n",
              "</div>"
            ],
            "text/plain": [
              "          country  population    area    capital\n",
              "0         Belgium        11.3   30510   Brussels\n",
              "1          France        64.3  671308      Paris\n",
              "2         Germany        81.3  357050     Berlin\n",
              "3     Netherlands        16.9   41526  Amsterdam\n",
              "4  United Kingdom        64.9  244820     London"
            ]
          },
          "metadata": {
            "tags": []
          },
          "execution_count": 29
        }
      ]
    },
    {
      "cell_type": "markdown",
      "metadata": {
        "id": "ZsuaZRE7RdEp"
      },
      "source": [
        "### Attributes of the DataFrame\n",
        "\n",
        "A DataFrame has besides a `index` attribute, also a `columns` attribute:"
      ]
    },
    {
      "cell_type": "code",
      "metadata": {
        "id": "uA9UpBT2RdEp",
        "colab": {
          "base_uri": "https://localhost:8080/"
        },
        "outputId": "d8df1004-bcde-4e25-c22d-7b9a37ff2ea2"
      },
      "source": [
        "countries.index"
      ],
      "execution_count": 30,
      "outputs": [
        {
          "output_type": "execute_result",
          "data": {
            "text/plain": [
              "RangeIndex(start=0, stop=5, step=1)"
            ]
          },
          "metadata": {
            "tags": []
          },
          "execution_count": 30
        }
      ]
    },
    {
      "cell_type": "code",
      "metadata": {
        "id": "Tg55KnTJRdEs",
        "colab": {
          "base_uri": "https://localhost:8080/"
        },
        "outputId": "47024010-935b-4774-e24c-bdec1f7c70f6"
      },
      "source": [
        "countries.columns"
      ],
      "execution_count": 31,
      "outputs": [
        {
          "output_type": "execute_result",
          "data": {
            "text/plain": [
              "Index(['country', 'population', 'area', 'capital'], dtype='object')"
            ]
          },
          "metadata": {
            "tags": []
          },
          "execution_count": 31
        }
      ]
    },
    {
      "cell_type": "markdown",
      "metadata": {
        "id": "aGwbdNFGRdEx"
      },
      "source": [
        "To check the data types of the different columns:"
      ]
    },
    {
      "cell_type": "code",
      "metadata": {
        "id": "m-75_Uc_RdEx",
        "colab": {
          "base_uri": "https://localhost:8080/"
        },
        "outputId": "05bf1ac6-6907-4015-926e-5173957ee023"
      },
      "source": [
        "countries.dtypes"
      ],
      "execution_count": 32,
      "outputs": [
        {
          "output_type": "execute_result",
          "data": {
            "text/plain": [
              "country        object\n",
              "population    float64\n",
              "area            int64\n",
              "capital        object\n",
              "dtype: object"
            ]
          },
          "metadata": {
            "tags": []
          },
          "execution_count": 32
        }
      ]
    },
    {
      "cell_type": "markdown",
      "metadata": {
        "id": "EB_Zir85RdE1"
      },
      "source": [
        "An overview of that information can be given with the `info()` method:"
      ]
    },
    {
      "cell_type": "code",
      "metadata": {
        "id": "MPZXw0yzRdE1",
        "colab": {
          "base_uri": "https://localhost:8080/"
        },
        "outputId": "337ab7ab-be2e-4f36-e1db-c22a5551e7dc"
      },
      "source": [
        "countries.info()"
      ],
      "execution_count": 33,
      "outputs": [
        {
          "output_type": "stream",
          "text": [
            "<class 'pandas.core.frame.DataFrame'>\n",
            "RangeIndex: 5 entries, 0 to 4\n",
            "Data columns (total 4 columns):\n",
            " #   Column      Non-Null Count  Dtype  \n",
            "---  ------      --------------  -----  \n",
            " 0   country     5 non-null      object \n",
            " 1   population  5 non-null      float64\n",
            " 2   area        5 non-null      int64  \n",
            " 3   capital     5 non-null      object \n",
            "dtypes: float64(1), int64(1), object(2)\n",
            "memory usage: 288.0+ bytes\n"
          ],
          "name": "stdout"
        }
      ]
    },
    {
      "cell_type": "markdown",
      "metadata": {
        "id": "nMN_BpQfRdE4"
      },
      "source": [
        "Also a DataFrame has a `values` attribute, but attention: when you have heterogeneous data, all values will be upcasted:"
      ]
    },
    {
      "cell_type": "code",
      "metadata": {
        "id": "M11YdNsjRdE4",
        "colab": {
          "base_uri": "https://localhost:8080/"
        },
        "outputId": "273ae395-3760-40cf-b6d3-221908f87cca"
      },
      "source": [
        "countries.values"
      ],
      "execution_count": 34,
      "outputs": [
        {
          "output_type": "execute_result",
          "data": {
            "text/plain": [
              "array([['Belgium', 11.3, 30510, 'Brussels'],\n",
              "       ['France', 64.3, 671308, 'Paris'],\n",
              "       ['Germany', 81.3, 357050, 'Berlin'],\n",
              "       ['Netherlands', 16.9, 41526, 'Amsterdam'],\n",
              "       ['United Kingdom', 64.9, 244820, 'London']], dtype=object)"
            ]
          },
          "metadata": {
            "tags": []
          },
          "execution_count": 34
        }
      ]
    },
    {
      "cell_type": "markdown",
      "metadata": {
        "id": "NEp7cMDARdE7"
      },
      "source": [
        "If we don't like what the index looks like, we can reset it and set one of our columns:"
      ]
    },
    {
      "cell_type": "code",
      "metadata": {
        "id": "89yFGPLZRdE8",
        "colab": {
          "base_uri": "https://localhost:8080/",
          "height": 225
        },
        "outputId": "b410faf3-ab00-4b64-a01b-dbb073c2d57d"
      },
      "source": [
        "countries = countries.set_index('country')\n",
        "countries"
      ],
      "execution_count": 35,
      "outputs": [
        {
          "output_type": "execute_result",
          "data": {
            "text/html": [
              "<div>\n",
              "<style scoped>\n",
              "    .dataframe tbody tr th:only-of-type {\n",
              "        vertical-align: middle;\n",
              "    }\n",
              "\n",
              "    .dataframe tbody tr th {\n",
              "        vertical-align: top;\n",
              "    }\n",
              "\n",
              "    .dataframe thead th {\n",
              "        text-align: right;\n",
              "    }\n",
              "</style>\n",
              "<table border=\"1\" class=\"dataframe\">\n",
              "  <thead>\n",
              "    <tr style=\"text-align: right;\">\n",
              "      <th></th>\n",
              "      <th>population</th>\n",
              "      <th>area</th>\n",
              "      <th>capital</th>\n",
              "    </tr>\n",
              "    <tr>\n",
              "      <th>country</th>\n",
              "      <th></th>\n",
              "      <th></th>\n",
              "      <th></th>\n",
              "    </tr>\n",
              "  </thead>\n",
              "  <tbody>\n",
              "    <tr>\n",
              "      <th>Belgium</th>\n",
              "      <td>11.3</td>\n",
              "      <td>30510</td>\n",
              "      <td>Brussels</td>\n",
              "    </tr>\n",
              "    <tr>\n",
              "      <th>France</th>\n",
              "      <td>64.3</td>\n",
              "      <td>671308</td>\n",
              "      <td>Paris</td>\n",
              "    </tr>\n",
              "    <tr>\n",
              "      <th>Germany</th>\n",
              "      <td>81.3</td>\n",
              "      <td>357050</td>\n",
              "      <td>Berlin</td>\n",
              "    </tr>\n",
              "    <tr>\n",
              "      <th>Netherlands</th>\n",
              "      <td>16.9</td>\n",
              "      <td>41526</td>\n",
              "      <td>Amsterdam</td>\n",
              "    </tr>\n",
              "    <tr>\n",
              "      <th>United Kingdom</th>\n",
              "      <td>64.9</td>\n",
              "      <td>244820</td>\n",
              "      <td>London</td>\n",
              "    </tr>\n",
              "  </tbody>\n",
              "</table>\n",
              "</div>"
            ],
            "text/plain": [
              "                population    area    capital\n",
              "country                                      \n",
              "Belgium               11.3   30510   Brussels\n",
              "France                64.3  671308      Paris\n",
              "Germany               81.3  357050     Berlin\n",
              "Netherlands           16.9   41526  Amsterdam\n",
              "United Kingdom        64.9  244820     London"
            ]
          },
          "metadata": {
            "tags": []
          },
          "execution_count": 35
        }
      ]
    },
    {
      "cell_type": "markdown",
      "metadata": {
        "id": "qLggpLAbRdE-"
      },
      "source": [
        "To access a Series representing a column in the data, use typical indexing syntax:"
      ]
    },
    {
      "cell_type": "code",
      "metadata": {
        "id": "inIJ_G0KRdE_",
        "colab": {
          "base_uri": "https://localhost:8080/"
        },
        "outputId": "9698f223-b949-4824-ec31-5ca5e241b930"
      },
      "source": [
        "countries['area']"
      ],
      "execution_count": 36,
      "outputs": [
        {
          "output_type": "execute_result",
          "data": {
            "text/plain": [
              "country\n",
              "Belgium            30510\n",
              "France            671308\n",
              "Germany           357050\n",
              "Netherlands        41526\n",
              "United Kingdom    244820\n",
              "Name: area, dtype: int64"
            ]
          },
          "metadata": {
            "tags": []
          },
          "execution_count": 36
        }
      ]
    },
    {
      "cell_type": "markdown",
      "metadata": {
        "id": "GV8Hi-GqRdFC"
      },
      "source": [
        "# Basic operations on Series/Dataframes"
      ]
    },
    {
      "cell_type": "markdown",
      "metadata": {
        "id": "dDQbwGdWRdFC"
      },
      "source": [
        "As you play around with DataFrames, you'll notice that many operations which work on NumPy arrays will also work on dataframes.\n"
      ]
    },
    {
      "cell_type": "code",
      "metadata": {
        "id": "uxUzXn16RdFD"
      },
      "source": [
        "# redefining the example objects\n",
        "\n",
        "population = pd.Series({'Germany': 81.3, 'Belgium': 11.3, 'France': 64.3, \n",
        "                        'United Kingdom': 64.9, 'Netherlands': 16.9})\n",
        "\n",
        "countries = pd.DataFrame({'country': ['Belgium', 'France', 'Germany', 'Netherlands', 'United Kingdom'],\n",
        "        'population': [11.3, 64.3, 81.3, 16.9, 64.9],\n",
        "        'area': [30510, 671308, 357050, 41526, 244820],\n",
        "        'capital': ['Brussels', 'Paris', 'Berlin', 'Amsterdam', 'London']})"
      ],
      "execution_count": 38,
      "outputs": []
    },
    {
      "cell_type": "markdown",
      "metadata": {
        "id": "m7OLLYxyRdFI"
      },
      "source": [
        "### Elementwise-operations (like numpy)"
      ]
    },
    {
      "cell_type": "markdown",
      "metadata": {
        "id": "X_We-XtIRdFI"
      },
      "source": [
        "Just like with numpy arrays, many operations are element-wise:"
      ]
    },
    {
      "cell_type": "code",
      "metadata": {
        "id": "UJS9QTQoRdFJ",
        "colab": {
          "base_uri": "https://localhost:8080/"
        },
        "outputId": "943fdd3f-5e8f-41ae-a404-39961cb820a1"
      },
      "source": [
        "population / 100"
      ],
      "execution_count": 40,
      "outputs": [
        {
          "output_type": "execute_result",
          "data": {
            "text/plain": [
              "Germany           0.813\n",
              "Belgium           0.113\n",
              "France            0.643\n",
              "United Kingdom    0.649\n",
              "Netherlands       0.169\n",
              "dtype: float64"
            ]
          },
          "metadata": {
            "tags": []
          },
          "execution_count": 40
        }
      ]
    },
    {
      "cell_type": "code",
      "metadata": {
        "id": "eLFsMi7eRdFL",
        "colab": {
          "base_uri": "https://localhost:8080/"
        },
        "outputId": "4d490fbd-201c-4f03-9bf3-a3f27717342e"
      },
      "source": [
        "countries['population'] / countries['area']"
      ],
      "execution_count": 39,
      "outputs": [
        {
          "output_type": "execute_result",
          "data": {
            "text/plain": [
              "0    0.000370\n",
              "1    0.000096\n",
              "2    0.000228\n",
              "3    0.000407\n",
              "4    0.000265\n",
              "dtype: float64"
            ]
          },
          "metadata": {
            "tags": []
          },
          "execution_count": 39
        }
      ]
    },
    {
      "cell_type": "markdown",
      "metadata": {
        "id": "Ts2zhWs7RdFN"
      },
      "source": [
        "### Alignment! (unlike numpy)\n",
        "\n",
        "Only, pay attention to **alignment**: operations between series will align on the index:  "
      ]
    },
    {
      "cell_type": "code",
      "metadata": {
        "id": "GBtNO02ARdFO"
      },
      "source": [
        "s1 = population[['Belgium', 'France']]\n",
        "s2 = population[['France', 'Germany']]"
      ],
      "execution_count": 50,
      "outputs": []
    },
    {
      "cell_type": "code",
      "metadata": {
        "id": "wMbLAsqIRdFS",
        "colab": {
          "base_uri": "https://localhost:8080/"
        },
        "outputId": "8f832167-8dbc-40b3-cbd6-8374e3c06e0b"
      },
      "source": [
        "s1"
      ],
      "execution_count": 51,
      "outputs": [
        {
          "output_type": "execute_result",
          "data": {
            "text/plain": [
              "Belgium    11.3\n",
              "France     64.3\n",
              "dtype: float64"
            ]
          },
          "metadata": {
            "tags": []
          },
          "execution_count": 51
        }
      ]
    },
    {
      "cell_type": "code",
      "metadata": {
        "id": "fJOy9XY_RdFU",
        "colab": {
          "base_uri": "https://localhost:8080/"
        },
        "outputId": "1b68efff-ccde-44e2-f15b-2a71a033abb6"
      },
      "source": [
        "s2"
      ],
      "execution_count": 47,
      "outputs": [
        {
          "output_type": "execute_result",
          "data": {
            "text/plain": [
              "a    0\n",
              "b    1\n",
              "c    2\n",
              "d    3\n",
              "dtype: int64"
            ]
          },
          "metadata": {
            "tags": []
          },
          "execution_count": 47
        }
      ]
    },
    {
      "cell_type": "code",
      "metadata": {
        "scrolled": true,
        "id": "DLHRZK_TRdFX",
        "colab": {
          "base_uri": "https://localhost:8080/"
        },
        "outputId": "71cde5d6-988e-4ce1-9023-457faf096a6c"
      },
      "source": [
        "s1 + s2"
      ],
      "execution_count": 52,
      "outputs": [
        {
          "output_type": "execute_result",
          "data": {
            "text/plain": [
              "Belgium      NaN\n",
              "France     128.6\n",
              "Germany      NaN\n",
              "dtype: float64"
            ]
          },
          "metadata": {
            "tags": []
          },
          "execution_count": 52
        }
      ]
    },
    {
      "cell_type": "markdown",
      "metadata": {
        "id": "vwQ4U0uxRdFZ"
      },
      "source": [
        "### Reductions (like numpy)"
      ]
    },
    {
      "cell_type": "markdown",
      "metadata": {
        "id": "bP-eQABVRdFZ"
      },
      "source": [
        "The average population number:"
      ]
    },
    {
      "cell_type": "code",
      "metadata": {
        "id": "Zj10Ez0cRdFZ",
        "colab": {
          "base_uri": "https://localhost:8080/"
        },
        "outputId": "b406c1fc-9c2b-412a-aa92-7a3a70c222aa"
      },
      "source": [
        "population.mean()"
      ],
      "execution_count": 41,
      "outputs": [
        {
          "output_type": "execute_result",
          "data": {
            "text/plain": [
              "47.739999999999995"
            ]
          },
          "metadata": {
            "tags": []
          },
          "execution_count": 41
        }
      ]
    },
    {
      "cell_type": "markdown",
      "metadata": {
        "id": "dWZKzZEXRdFd"
      },
      "source": [
        "The minimum area:"
      ]
    },
    {
      "cell_type": "code",
      "metadata": {
        "id": "VCkUpcf5RdFd",
        "colab": {
          "base_uri": "https://localhost:8080/"
        },
        "outputId": "27d9c209-dd1e-4801-bdcf-ed51729bff09"
      },
      "source": [
        "countries['area'].min()"
      ],
      "execution_count": 42,
      "outputs": [
        {
          "output_type": "execute_result",
          "data": {
            "text/plain": [
              "30510"
            ]
          },
          "metadata": {
            "tags": []
          },
          "execution_count": 42
        }
      ]
    },
    {
      "cell_type": "markdown",
      "metadata": {
        "id": "PkbTwxu4RdFg"
      },
      "source": [
        "For dataframes, often only the numeric columns are included in the result:"
      ]
    },
    {
      "cell_type": "code",
      "metadata": {
        "id": "2fppX9NbRdFh",
        "outputId": "65613245-cab5-4cb0-bd58-9d299a490721"
      },
      "source": [
        "countries.median()"
      ],
      "execution_count": null,
      "outputs": [
        {
          "output_type": "execute_result",
          "data": {
            "text/plain": [
              "area          244820.0\n",
              "population        64.3\n",
              "dtype: float64"
            ]
          },
          "metadata": {
            "tags": []
          },
          "execution_count": 36
        }
      ]
    },
    {
      "cell_type": "markdown",
      "metadata": {
        "id": "Qdr7gRqWRdFl"
      },
      "source": [
        "## Practice 2\n",
        "\n",
        "**Calculate the population numbers relative to Belgium**\n"
      ]
    },
    {
      "cell_type": "code",
      "metadata": {
        "clear_cell": true,
        "scrolled": true,
        "id": "uYXWuQxZRdFm",
        "colab": {
          "base_uri": "https://localhost:8080/"
        },
        "outputId": "b3f7009f-9b3b-4427-f8a3-b19bb65b0503"
      },
      "source": [
        "population / population['Belgium'].mean()"
      ],
      "execution_count": 46,
      "outputs": [
        {
          "output_type": "execute_result",
          "data": {
            "text/plain": [
              "Germany           7.194690\n",
              "Belgium           1.000000\n",
              "France            5.690265\n",
              "United Kingdom    5.743363\n",
              "Netherlands       1.495575\n",
              "dtype: float64"
            ]
          },
          "metadata": {
            "tags": []
          },
          "execution_count": 46
        }
      ]
    },
    {
      "cell_type": "markdown",
      "metadata": {
        "id": "sN7idsdWRdFp"
      },
      "source": [
        "**Calculate the population density for each country and add this as a new column to the dataframe.**"
      ]
    },
    {
      "cell_type": "code",
      "metadata": {
        "clear_cell": true,
        "scrolled": true,
        "id": "qeJzl5ytRdFp"
      },
      "source": [
        "countries['density']=countries['population']*1000000/countries['area']"
      ],
      "execution_count": 54,
      "outputs": []
    },
    {
      "cell_type": "code",
      "metadata": {
        "clear_cell": true,
        "scrolled": true,
        "id": "7x5cywYYRdFs"
      },
      "source": [
        ""
      ],
      "execution_count": null,
      "outputs": []
    },
    {
      "cell_type": "markdown",
      "metadata": {
        "id": "rSxWuwRwRdFv"
      },
      "source": [
        "### Some other useful methods"
      ]
    },
    {
      "cell_type": "markdown",
      "metadata": {
        "id": "BsoDABFlRdFv"
      },
      "source": [
        "Sorting the rows of the DataFrame according to the values in a column:"
      ]
    },
    {
      "cell_type": "code",
      "metadata": {
        "id": "sLwHLj1pRdFw",
        "outputId": "88437f63-5090-477c-c8de-69575b15d595"
      },
      "source": [
        "countries.sort_values('density', ascending=False)"
      ],
      "execution_count": null,
      "outputs": [
        {
          "output_type": "execute_result",
          "data": {
            "text/html": [
              "<div>\n",
              "<table border=\"1\" class=\"dataframe\">\n",
              "  <thead>\n",
              "    <tr style=\"text-align: right;\">\n",
              "      <th></th>\n",
              "      <th>area</th>\n",
              "      <th>capital</th>\n",
              "      <th>country</th>\n",
              "      <th>population</th>\n",
              "      <th>density</th>\n",
              "    </tr>\n",
              "  </thead>\n",
              "  <tbody>\n",
              "    <tr>\n",
              "      <th>3</th>\n",
              "      <td>41526</td>\n",
              "      <td>Amsterdam</td>\n",
              "      <td>Netherlands</td>\n",
              "      <td>16.9</td>\n",
              "      <td>406.973944</td>\n",
              "    </tr>\n",
              "    <tr>\n",
              "      <th>0</th>\n",
              "      <td>30510</td>\n",
              "      <td>Brussels</td>\n",
              "      <td>Belgium</td>\n",
              "      <td>11.3</td>\n",
              "      <td>370.370370</td>\n",
              "    </tr>\n",
              "    <tr>\n",
              "      <th>4</th>\n",
              "      <td>244820</td>\n",
              "      <td>London</td>\n",
              "      <td>United Kingdom</td>\n",
              "      <td>64.9</td>\n",
              "      <td>265.092721</td>\n",
              "    </tr>\n",
              "    <tr>\n",
              "      <th>2</th>\n",
              "      <td>357050</td>\n",
              "      <td>Berlin</td>\n",
              "      <td>Germany</td>\n",
              "      <td>81.3</td>\n",
              "      <td>227.699202</td>\n",
              "    </tr>\n",
              "    <tr>\n",
              "      <th>1</th>\n",
              "      <td>671308</td>\n",
              "      <td>Paris</td>\n",
              "      <td>France</td>\n",
              "      <td>64.3</td>\n",
              "      <td>95.783158</td>\n",
              "    </tr>\n",
              "  </tbody>\n",
              "</table>\n",
              "</div>"
            ],
            "text/plain": [
              "     area    capital         country  population     density\n",
              "3   41526  Amsterdam     Netherlands        16.9  406.973944\n",
              "0   30510   Brussels         Belgium        11.3  370.370370\n",
              "4  244820     London  United Kingdom        64.9  265.092721\n",
              "2  357050     Berlin         Germany        81.3  227.699202\n",
              "1  671308      Paris          France        64.3   95.783158"
            ]
          },
          "metadata": {
            "tags": []
          },
          "execution_count": 40
        }
      ]
    },
    {
      "cell_type": "markdown",
      "metadata": {
        "id": "fEAz7p93RdFy"
      },
      "source": [
        "One useful method to use is the ``describe`` method, which computes summary statistics for each column:"
      ]
    },
    {
      "cell_type": "code",
      "metadata": {
        "id": "MU3rRm1QRdFy",
        "outputId": "ade57fef-e684-479e-9875-6acb64d494c4"
      },
      "source": [
        "countries.describe()"
      ],
      "execution_count": null,
      "outputs": [
        {
          "output_type": "execute_result",
          "data": {
            "text/html": [
              "<div>\n",
              "<table border=\"1\" class=\"dataframe\">\n",
              "  <thead>\n",
              "    <tr style=\"text-align: right;\">\n",
              "      <th></th>\n",
              "      <th>area</th>\n",
              "      <th>population</th>\n",
              "      <th>density</th>\n",
              "    </tr>\n",
              "  </thead>\n",
              "  <tbody>\n",
              "    <tr>\n",
              "      <th>count</th>\n",
              "      <td>5.000000</td>\n",
              "      <td>5.000000</td>\n",
              "      <td>5.000000</td>\n",
              "    </tr>\n",
              "    <tr>\n",
              "      <th>mean</th>\n",
              "      <td>269042.800000</td>\n",
              "      <td>47.740000</td>\n",
              "      <td>273.183879</td>\n",
              "    </tr>\n",
              "    <tr>\n",
              "      <th>std</th>\n",
              "      <td>264012.827994</td>\n",
              "      <td>31.519645</td>\n",
              "      <td>123.440607</td>\n",
              "    </tr>\n",
              "    <tr>\n",
              "      <th>min</th>\n",
              "      <td>30510.000000</td>\n",
              "      <td>11.300000</td>\n",
              "      <td>95.783158</td>\n",
              "    </tr>\n",
              "    <tr>\n",
              "      <th>25%</th>\n",
              "      <td>41526.000000</td>\n",
              "      <td>16.900000</td>\n",
              "      <td>227.699202</td>\n",
              "    </tr>\n",
              "    <tr>\n",
              "      <th>50%</th>\n",
              "      <td>244820.000000</td>\n",
              "      <td>64.300000</td>\n",
              "      <td>265.092721</td>\n",
              "    </tr>\n",
              "    <tr>\n",
              "      <th>75%</th>\n",
              "      <td>357050.000000</td>\n",
              "      <td>64.900000</td>\n",
              "      <td>370.370370</td>\n",
              "    </tr>\n",
              "    <tr>\n",
              "      <th>max</th>\n",
              "      <td>671308.000000</td>\n",
              "      <td>81.300000</td>\n",
              "      <td>406.973944</td>\n",
              "    </tr>\n",
              "  </tbody>\n",
              "</table>\n",
              "</div>"
            ],
            "text/plain": [
              "                area  population     density\n",
              "count       5.000000    5.000000    5.000000\n",
              "mean   269042.800000   47.740000  273.183879\n",
              "std    264012.827994   31.519645  123.440607\n",
              "min     30510.000000   11.300000   95.783158\n",
              "25%     41526.000000   16.900000  227.699202\n",
              "50%    244820.000000   64.300000  265.092721\n",
              "75%    357050.000000   64.900000  370.370370\n",
              "max    671308.000000   81.300000  406.973944"
            ]
          },
          "metadata": {
            "tags": []
          },
          "execution_count": 41
        }
      ]
    },
    {
      "cell_type": "markdown",
      "metadata": {
        "id": "g6JKp9zVRdF0"
      },
      "source": [
        "The `plot` method can be used to quickly visualize the data in different ways:"
      ]
    },
    {
      "cell_type": "code",
      "metadata": {
        "id": "6hRMBSE4RdF0",
        "outputId": "4818533b-053d-4bc6-d9e4-508ee58fd2bb"
      },
      "source": [
        "countries.plot()"
      ],
      "execution_count": null,
      "outputs": [
        {
          "output_type": "execute_result",
          "data": {
            "text/plain": [
              "<matplotlib.axes._subplots.AxesSubplot at 0x7fa70cd3f080>"
            ]
          },
          "metadata": {
            "tags": []
          },
          "execution_count": 42
        },
        {
          "output_type": "display_data",
          "data": {
            "image/png": "[encoded data removed]",
            "text/plain": [
              "<matplotlib.figure.Figure at 0x7fa70cccc048>"
            ]
          },
          "metadata": {
            "tags": []
          }
        }
      ]
    },
    {
      "cell_type": "markdown",
      "metadata": {
        "id": "5alnz_9BRdF3"
      },
      "source": [
        "However, for this dataset, it does not say that much:"
      ]
    },
    {
      "cell_type": "code",
      "metadata": {
        "id": "RR1-DIRwRdF3",
        "outputId": "bf73f968-fa86-4d55-8017-83a05cb92e5d"
      },
      "source": [
        "countries['population'].plot(kind='bar')"
      ],
      "execution_count": null,
      "outputs": [
        {
          "output_type": "execute_result",
          "data": {
            "text/plain": [
              "<matplotlib.axes._subplots.AxesSubplot at 0x7fa70cc213c8>"
            ]
          },
          "metadata": {
            "tags": []
          },
          "execution_count": 43
        },
        {
          "output_type": "display_data",
          "data": {
            "image/png": "[encoded data removed]",
            "text/plain": [
              "<matplotlib.figure.Figure at 0x7fa70cd50a20>"
            ]
          },
          "metadata": {
            "tags": []
          }
        }
      ]
    },
    {
      "cell_type": "markdown",
      "metadata": {
        "id": "T2FF7dNZRdF6"
      },
      "source": [
        "You can play with the `kind` keyword: 'line', 'bar', 'hist', 'density', 'area', 'pie', 'scatter', 'hexbin'"
      ]
    },
    {
      "cell_type": "markdown",
      "metadata": {
        "id": "OpDmGqOpRdF6"
      },
      "source": [
        "## Importing and exporting data"
      ]
    },
    {
      "cell_type": "markdown",
      "metadata": {
        "id": "ltSrPksKRdF6"
      },
      "source": [
        "A wide range of input/output formats are natively supported by pandas:\n",
        "\n",
        "* CSV, text\n",
        "* SQL database\n",
        "* Excel\n",
        "* HDF5\n",
        "* json\n",
        "* html\n",
        "* pickle\n",
        "* ..."
      ]
    },
    {
      "cell_type": "code",
      "metadata": {
        "id": "kWModnk8RdF7"
      },
      "source": [
        "pd.read"
      ],
      "execution_count": null,
      "outputs": []
    },
    {
      "cell_type": "code",
      "metadata": {
        "id": "W_T6t4XtRdF_"
      },
      "source": [
        "states.to"
      ],
      "execution_count": null,
      "outputs": []
    },
    {
      "cell_type": "markdown",
      "metadata": {
        "id": "YpFhxABRRdGB"
      },
      "source": [
        "## Other features\n",
        "\n",
        "* Working with missing data (`.dropna()`, `pd.isnull()`)\n",
        "* Merging and joining (`concat`, `join`)\n",
        "* Grouping: `groupby` functionality\n",
        "* Reshaping (`stack`, `pivot`)\n",
        "* Time series manipulation (resampling, timezones, ..)\n",
        "* Easy plotting"
      ]
    },
    {
      "cell_type": "markdown",
      "metadata": {
        "id": "nlwkBZYiRdGC"
      },
      "source": [
        "There are many, many more interesting operations that can be done on Series and DataFrame objects, but rather than continue using this toy data, we'll instead move to a real-world example, and illustrate some of the advanced concepts along the way.\n",
        "\n",
        "See the next notebooks!"
      ]
    },
    {
      "cell_type": "markdown",
      "metadata": {
        "collapsed": true,
        "id": "pET_vKhxRdGC"
      },
      "source": [
        "## Acknowledgement\n",
        "\n",
        "> *© 2015, Stijn Van Hoey and Joris Van den Bossche  (<mailto:stijnvanhoey@gmail.com>, <mailto:jorisvandenbossche@gmail.com>). Licensed under [CC BY 4.0 Creative Commons](http://creativecommons.org/licenses/by/4.0/)*\n",
        "\n",
        "> This notebook is partly based on material of Jake Vanderplas (https://github.com/jakevdp/OsloWorkshop2014).\n",
        "\n",
        "---"
      ]
    }
  ]
}